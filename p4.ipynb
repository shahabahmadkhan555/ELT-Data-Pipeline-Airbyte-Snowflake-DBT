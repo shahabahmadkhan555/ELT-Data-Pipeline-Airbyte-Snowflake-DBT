{
 "cells": [
  {
   "cell_type": "code",
   "execution_count": 8,
   "id": "82d056b0-b26d-4749-891e-4674d527fbbd",
   "metadata": {},
   "outputs": [],
   "source": [
    "import snowflake.connector\n",
    "import pandas as pd\n",
    "import matplotlib.pyplot as plt\n",
    "from sqlalchemy import create_engine"
   ]
  },
  {
   "cell_type": "code",
   "execution_count": 16,
   "id": "f0e406dd-dda1-4952-8211-f74ed11b006f",
   "metadata": {},
   "outputs": [],
   "source": [
    "with open(\"snowflake_password.txt\", \"r\") as file:\n",
    "    snowflake_password = file.read()\n",
    "    snowflake_password = snowflake_password.strip()"
   ]
  },
  {
   "cell_type": "code",
   "execution_count": 17,
   "id": "9d79fbc0-3dd4-4df5-a45a-2630e98ddaf4",
   "metadata": {},
   "outputs": [],
   "source": [
    "conn = snowflake.connector.connect(\n",
    "    user='YCHAUDHARI',\n",
    "    password=snowflake_password,\n",
    "    account='TQ19230.us-central1.gcp'\n",
    ")\n",
    "\n",
    "# Create cursor object instance\n",
    "cursor = conn.cursor()"
   ]
  },
  {
   "cell_type": "markdown",
   "id": "48e88a68-aaec-4e4b-8d5a-b8c4a4822ddb",
   "metadata": {},
   "source": [
    "#### Q3: Install DBT using Miniconda (0.5 points)"
   ]
  },
  {
   "cell_type": "code",
   "execution_count": 1,
   "id": "32a02361-72bc-4c3c-bd90-3b135c58ad83",
   "metadata": {},
   "outputs": [
    {
     "name": "stdout",
     "output_type": "stream",
     "text": [
      "/home/ysc150799/miniconda3/envs/p4-env/bin/dbt\n"
     ]
    }
   ],
   "source": [
    "!which dbt"
   ]
  },
  {
   "cell_type": "markdown",
   "id": "78c6da25-95e2-4cdf-bd83-9cdf51acd9d1",
   "metadata": {},
   "source": [
    "#### Q9: Use dbt to transform the column names to single word or two-word names with \"_\" separator and create a view named `transform_survey`. (4 points)"
   ]
  },
  {
   "cell_type": "code",
   "execution_count": 2,
   "id": "c156253c-5e53-43df-9265-9eb4c62ac365",
   "metadata": {},
   "outputs": [
    {
     "name": "stdout",
     "output_type": "stream",
     "text": [
      "p4_data_pipeline:\n",
      "  target: dev\n",
      "  outputs:\n",
      "    dev:\n",
      "      type: snowflake\n",
      "      account: TQ19230.us-central1.gcp\n",
      "      user: YCHAUDHARI\n",
      "      role: P4_ROLE\n",
      "      database: SURVEY_DATABASE\n",
      "      warehouse: P4_WAREHOUSE\n",
      "      schema: SURVEY_SCHEMA\n",
      "      threads: 1\n",
      "      client_session_keep_alive: False\n",
      "\n",
      "  target: stock_db\n",
      "  outputs:\n",
      "    stock_db:\n",
      "      type: snowflake\n",
      "      account: TQ19230.us-central1.gcp\n",
      "      user: YCHAUDHARI\n",
      "      role: P4_ROLE\n",
      "      database: STOCK_DB\n",
      "      warehouse: P4_WAREHOUSE\n",
      "      schema: STOCK_SCHEMA\n",
      "      threads: 1\n",
      "      client_session_keep_alive: false\n"
     ]
    }
   ],
   "source": [
    "!cat ~/.dbt/profiles.yml | grep -v password"
   ]
  },
  {
   "cell_type": "code",
   "execution_count": 3,
   "id": "8658e10b-2122-4a95-8a12-111e8a7dc4e3",
   "metadata": {},
   "outputs": [
    {
     "name": "stdout",
     "output_type": "stream",
     "text": [
      "version: 2\n",
      "\n",
      "sources:\n",
      "  - name: p4_survey_data\n",
      "    database: SURVEY_DATABASE\n",
      "    schema: SURVEY_SCHEMA\n",
      "    tables:\n",
      "      - name: survey  # original table from Google Sheets\n",
      "\n",
      "  - name: stock_by_day\n",
      "    database: STOCK_DB\n",
      "    schema: STOCK_SCHEMA\n",
      "    tables:\n",
      "      - name: US_STOCK_METRICS\n",
      "\n",
      "  - name: fx_by_day\n",
      "    database: STOCK_DB\n",
      "    schema: STOCK_SCHEMA\n",
      "    tables:\n",
      "      - name: FOREX_METRICS\n",
      "\n",
      "  - name: airbyte_csv_data\n",
      "    database: STOCK_DB\n",
      "    schema: STOCK_SCHEMA\n",
      "    tables:\n",
      "      - name: TRADING_BOOKS\n",
      "      - name: WEIGHTS_TABLE\n"
     ]
    }
   ],
   "source": [
    "!cat ../p4_data_pipeline/models/schema.yml"
   ]
  },
  {
   "cell_type": "code",
   "execution_count": 4,
   "id": "cd9c89fa-ff34-4ebf-a9ab-d7aa2e490b03",
   "metadata": {},
   "outputs": [
    {
     "name": "stdout",
     "output_type": "stream",
     "text": [
      "with raw_survey as (\n",
      "    select * from {{ source('p4_survey_data', 'survey') }}\n",
      "),\n",
      "\n",
      "transform_survey as (\n",
      "    select\n",
      "        {{ adapter.quote('EMAIL_ADDRESS') }} as email,\n",
      "        {{ adapter.quote('WHAT_IS_YOUR_AGE_') }} as age,\n",
      "        {{ adapter.quote('WHICH_BEST_DESCRIBES_YOUR_PRIMARY_MAJOR_OR_FIELD_OF_STUDY_IF_YOU_HAVE_MORE_THAN_ONE_MAJOR_PLEASE_SPECIFY_OTHER_MAJORS_AS_PART_OF_THE_NEXT_QUESTION_') }} as primary_major,\n",
      "\t{{ adapter.quote('IF_YOU_HAVE_SECONDARY_MAJORS_PLEASE_LIST_THEM_HERE_SEPARATED_BY_A_COMMA_') }} as secondary_major,\n",
      "\t{{ adapter.quote('WHAT_FACTOR_INFLUENCES_YOUR_COURSE_SELECTION_THE_MOST_') }} as course_influence,\n",
      "\t{{ adapter.quote('WHAT_IS_THE_5_DIGIT_ZIP_CODE_OF_YOUR_RESIDENCE_WHILE_ATTENDING_CLASSES_IF_YOU_ARE_NOT_SURE_CHECK_HERE_HTTPS_TOOLS_USPS_COM_ZIP_CODE_LOOKUP_HTM_BYADDRESS_') }} as zip_code,\n",
      "\t{{ adapter.quote('WHAT_IS_YOUR_FAVORITE_PIZZA_TOPPING_') }} as favorite_topping,\n",
      "\t{{ adapter.quote('HAVE_YOU_EVER_IN_YOUR_LIFE_HAD_A_PET_') }} as has_pet,\n",
      "\t{{ adapter.quote('ARE_YOU_A_RUNNER_CONSIDER_BOTH_RUNNING_ON_TREADMILL_AND_OUTDOORS_') }} as is_runner,\n",
      "\t{{ adapter.quote('WOULD_YOU_DESCRIBE_YOURSELF_AS_AN_EARLY_BIRD_OR_A_NIGHT_OWL_') }} as sleep_type,\n",
      "\t{{ adapter.quote('DO_YOU_CONSIDER_YOURSELF_A_PROCRASTINATOR_') }} as is_procrastinator,\n",
      "\t{{ adapter.quote('IF_YOU_HAD_AN_EXTRA_HOUR_IN_YOUR_DAY_HOW_WOULD_YOU_SPEND_IT_') }} as extra_hour,\n",
      "\t{{ adapter.quote('WHAT_IS_YOUR_FAVORITE_HOBBY_') }} as favorite_hobby,\n",
      "\t{{ adapter.quote('WHAT_IS_YOUR_CURRENT_STANDING') }} as academic_standing\n",
      "    from raw_survey\n",
      ")\n",
      "\n",
      "select * from transform_survey\n"
     ]
    }
   ],
   "source": [
    "!cat ../p4_data_pipeline/models/staging/transform_survey.sql"
   ]
  },
  {
   "cell_type": "markdown",
   "id": "25459826-9b3e-46f5-b58d-d30f07d57e9b",
   "metadata": {},
   "source": [
    "#### Q10: What percentage of Student have Reading or Watching Something as their hobby"
   ]
  },
  {
   "cell_type": "code",
   "execution_count": 21,
   "id": "342acb10-5169-462d-8779-abeb9b2b1ca3",
   "metadata": {},
   "outputs": [
    {
     "name": "stderr",
     "output_type": "stream",
     "text": [
      "/tmp/ipykernel_1873960/2676212306.py:4: UserWarning: pandas only supports SQLAlchemy connectable (engine/connection) or database string URI or sqlite3 DBAPI2 connection. Other DBAPI2 objects are not tested. Please consider using SQLAlchemy.\n",
      "  df = pd.read_sql(\"\"\"\n"
     ]
    },
    {
     "data": {
      "text/html": [
       "<div>\n",
       "<style scoped>\n",
       "    .dataframe tbody tr th:only-of-type {\n",
       "        vertical-align: middle;\n",
       "    }\n",
       "\n",
       "    .dataframe tbody tr th {\n",
       "        vertical-align: top;\n",
       "    }\n",
       "\n",
       "    .dataframe thead th {\n",
       "        text-align: right;\n",
       "    }\n",
       "</style>\n",
       "<table border=\"1\" class=\"dataframe\">\n",
       "  <thead>\n",
       "    <tr style=\"text-align: right;\">\n",
       "      <th></th>\n",
       "      <th>PER_OF_STUDENT</th>\n",
       "    </tr>\n",
       "  </thead>\n",
       "  <tbody>\n",
       "    <tr>\n",
       "      <th>0</th>\n",
       "      <td>13.84</td>\n",
       "    </tr>\n",
       "  </tbody>\n",
       "</table>\n",
       "</div>"
      ],
      "text/plain": [
       "   PER_OF_STUDENT\n",
       "0           13.84"
      ]
     },
     "execution_count": 21,
     "metadata": {},
     "output_type": "execute_result"
    }
   ],
   "source": [
    "cursor.execute(\"USE DATABASE SURVEY_DATABASE;\")\n",
    "cursor.execute(\"USE SCHEMA SURVEY_SCHEMA;\")\n",
    "\n",
    "df = pd.read_sql(\"\"\"\n",
    "WITH Interested_Hobby_Count AS\n",
    "(\n",
    "SELECT COUNT(*) AS stud_cnt\n",
    "FROM TRANSFORM_SURVEY\n",
    "WHERE LOWER(FAVORITE_HOBBY) = 'reading'\n",
    "OR LOWER(FAVORITE_HOBBY) LIKE '%watching%'\n",
    ")\n",
    "SELECT ROUND(stud_cnt * 100.0 / (SELECT COUNT(*) FROM TRANSFORM_SURVEY),2) AS per_of_student\n",
    "FROM Interested_Hobby_Count\n",
    "\"\"\", conn)\n",
    "df"
   ]
  },
  {
   "cell_type": "markdown",
   "id": "22af62c4-818f-4ce0-9c2c-02326b1c4f84",
   "metadata": {},
   "source": [
    "So Approx 14% of students have hobby as reading or watching some series or movies"
   ]
  },
  {
   "cell_type": "markdown",
   "id": "8e5b2749-f83a-4dbd-bed0-77bf78bfb5f5",
   "metadata": {},
   "source": [
    "#### Q11: How is the distribution of primary major in course CS639? Also draw a plot to show"
   ]
  },
  {
   "cell_type": "code",
   "execution_count": 26,
   "id": "8d5eb53c-ec87-44e3-99aa-fc90a2e35fe8",
   "metadata": {},
   "outputs": [
    {
     "name": "stderr",
     "output_type": "stream",
     "text": [
      "/tmp/ipykernel_1873960/3942198682.py:1: UserWarning: pandas only supports SQLAlchemy connectable (engine/connection) or database string URI or sqlite3 DBAPI2 connection. Other DBAPI2 objects are not tested. Please consider using SQLAlchemy.\n",
      "  df = pd.read_sql(\"\"\"\n"
     ]
    },
    {
     "data": {
      "text/html": [
       "<div>\n",
       "<style scoped>\n",
       "    .dataframe tbody tr th:only-of-type {\n",
       "        vertical-align: middle;\n",
       "    }\n",
       "\n",
       "    .dataframe tbody tr th {\n",
       "        vertical-align: top;\n",
       "    }\n",
       "\n",
       "    .dataframe thead th {\n",
       "        text-align: right;\n",
       "    }\n",
       "</style>\n",
       "<table border=\"1\" class=\"dataframe\">\n",
       "  <thead>\n",
       "    <tr style=\"text-align: right;\">\n",
       "      <th></th>\n",
       "      <th>PRIMARY_MAJOR</th>\n",
       "      <th>NO_OF_STUDENTS</th>\n",
       "    </tr>\n",
       "  </thead>\n",
       "  <tbody>\n",
       "    <tr>\n",
       "      <th>0</th>\n",
       "      <td>Computer Science</td>\n",
       "      <td>76</td>\n",
       "    </tr>\n",
       "    <tr>\n",
       "      <th>1</th>\n",
       "      <td>Business: Actuarial</td>\n",
       "      <td>1</td>\n",
       "    </tr>\n",
       "    <tr>\n",
       "      <th>2</th>\n",
       "      <td>Data Science</td>\n",
       "      <td>69</td>\n",
       "    </tr>\n",
       "    <tr>\n",
       "      <th>3</th>\n",
       "      <td>Other</td>\n",
       "      <td>1</td>\n",
       "    </tr>\n",
       "    <tr>\n",
       "      <th>4</th>\n",
       "      <td>Engineering: Other</td>\n",
       "      <td>2</td>\n",
       "    </tr>\n",
       "    <tr>\n",
       "      <th>5</th>\n",
       "      <td>Mathematics/AMEP</td>\n",
       "      <td>4</td>\n",
       "    </tr>\n",
       "    <tr>\n",
       "      <th>6</th>\n",
       "      <td>Science: Physics</td>\n",
       "      <td>2</td>\n",
       "    </tr>\n",
       "    <tr>\n",
       "      <th>7</th>\n",
       "      <td>Business: Information Systems</td>\n",
       "      <td>1</td>\n",
       "    </tr>\n",
       "    <tr>\n",
       "      <th>8</th>\n",
       "      <td>Statistics</td>\n",
       "      <td>2</td>\n",
       "    </tr>\n",
       "    <tr>\n",
       "      <th>9</th>\n",
       "      <td>Business: Other</td>\n",
       "      <td>1</td>\n",
       "    </tr>\n",
       "  </tbody>\n",
       "</table>\n",
       "</div>"
      ],
      "text/plain": [
       "                   PRIMARY_MAJOR  NO_OF_STUDENTS\n",
       "0               Computer Science              76\n",
       "1            Business: Actuarial               1\n",
       "2                   Data Science              69\n",
       "3                          Other               1\n",
       "4             Engineering: Other               2\n",
       "5               Mathematics/AMEP               4\n",
       "6               Science: Physics               2\n",
       "7  Business: Information Systems               1\n",
       "8                     Statistics               2\n",
       "9                Business: Other               1"
      ]
     },
     "execution_count": 26,
     "metadata": {},
     "output_type": "execute_result"
    }
   ],
   "source": [
    "df = pd.read_sql(\"\"\"\n",
    "SELECT PRIMARY_MAJOR, COUNT(*) as No_of_students\n",
    "FROM TRANSFORM_SURVEY\n",
    "GROUP BY PRIMARY_MAJOR\n",
    "\"\"\", conn)\n",
    "df"
   ]
  },
  {
   "cell_type": "code",
   "execution_count": 28,
   "id": "437b7b1c-f8d0-419e-8028-e682ca36ff3c",
   "metadata": {},
   "outputs": [
    {
     "data": {
      "image/png": "[encoded data removed]",
      "text/plain": [
       "<Figure size 1200x600 with 1 Axes>"
      ]
     },
     "metadata": {},
     "output_type": "display_data"
    }
   ],
   "source": [
    "# Sort the DataFrame by No_of_students in descending order\n",
    "df_sorted = df.sort_values(by='NO_OF_STUDENTS', ascending=False)\n",
    "\n",
    "# Plot\n",
    "plt.figure(figsize=(12, 6))\n",
    "plt.bar(df_sorted['PRIMARY_MAJOR'], df_sorted['NO_OF_STUDENTS'], color='skyblue')\n",
    "\n",
    "# Rotate major names to be completely vertical\n",
    "plt.xticks(rotation=90)\n",
    "\n",
    "# Add labels and title\n",
    "plt.xlabel('Primary Major')\n",
    "plt.ylabel('Number of Students')\n",
    "plt.title('Number of Students by Primary Major')\n",
    "plt.tight_layout()  # Adjust layout to avoid label clipping\n",
    "\n",
    "plt.show()"
   ]
  },
  {
   "cell_type": "markdown",
   "id": "fb5c9917-9575-4e80-8c1d-fc1299c2f48b",
   "metadata": {},
   "source": [
    "#### Q12: % of student with same interest to pursue CS639? Also plot relevant graph to show this?"
   ]
  },
  {
   "cell_type": "code",
   "execution_count": 36,
   "id": "0f63a8fc-e586-415e-a062-8fa5f46631b6",
   "metadata": {},
   "outputs": [
    {
     "name": "stderr",
     "output_type": "stream",
     "text": [
      "/tmp/ipykernel_1873960/3682185016.py:1: UserWarning: pandas only supports SQLAlchemy connectable (engine/connection) or database string URI or sqlite3 DBAPI2 connection. Other DBAPI2 objects are not tested. Please consider using SQLAlchemy.\n",
      "  df = pd.read_sql(\"\"\"\n"
     ]
    },
    {
     "data": {
      "text/html": [
       "<div>\n",
       "<style scoped>\n",
       "    .dataframe tbody tr th:only-of-type {\n",
       "        vertical-align: middle;\n",
       "    }\n",
       "\n",
       "    .dataframe tbody tr th {\n",
       "        vertical-align: top;\n",
       "    }\n",
       "\n",
       "    .dataframe thead th {\n",
       "        text-align: right;\n",
       "    }\n",
       "</style>\n",
       "<table border=\"1\" class=\"dataframe\">\n",
       "  <thead>\n",
       "    <tr style=\"text-align: right;\">\n",
       "      <th></th>\n",
       "      <th>COURSE_INFLUENCE</th>\n",
       "      <th>PERCENT_OF_STUDENT</th>\n",
       "    </tr>\n",
       "  </thead>\n",
       "  <tbody>\n",
       "    <tr>\n",
       "      <th>0</th>\n",
       "      <td>Interest in the subject</td>\n",
       "      <td>51.6</td>\n",
       "    </tr>\n",
       "    <tr>\n",
       "      <th>1</th>\n",
       "      <td>Career relevance</td>\n",
       "      <td>25.8</td>\n",
       "    </tr>\n",
       "    <tr>\n",
       "      <th>2</th>\n",
       "      <td>Graduation requirements</td>\n",
       "      <td>15.1</td>\n",
       "    </tr>\n",
       "    <tr>\n",
       "      <th>3</th>\n",
       "      <td>Instructor reputation</td>\n",
       "      <td>3.8</td>\n",
       "    </tr>\n",
       "    <tr>\n",
       "      <th>4</th>\n",
       "      <td>Course workload</td>\n",
       "      <td>3.8</td>\n",
       "    </tr>\n",
       "  </tbody>\n",
       "</table>\n",
       "</div>"
      ],
      "text/plain": [
       "          COURSE_INFLUENCE  PERCENT_OF_STUDENT\n",
       "0  Interest in the subject                51.6\n",
       "1         Career relevance                25.8\n",
       "2  Graduation requirements                15.1\n",
       "3    Instructor reputation                 3.8\n",
       "4          Course workload                 3.8"
      ]
     },
     "execution_count": 36,
     "metadata": {},
     "output_type": "execute_result"
    }
   ],
   "source": [
    "df = pd.read_sql(\"\"\"\n",
    "SELECT COURSE_INFLUENCE, ROUND(COUNT(*) * 100.0 / (SELECT COUNT(*) FROM TRANSFORM_SURVEY),1) AS Percent_of_Student\n",
    "FROM TRANSFORM_SURVEY\n",
    "GROUP BY COURSE_INFLUENCE\n",
    "ORDER BY Percent_of_Student DESC\n",
    "\"\"\", conn)\n",
    "df"
   ]
  },
  {
   "cell_type": "code",
   "execution_count": 37,
   "id": "64b8623a-baa8-4cee-8404-d9beb527bf47",
   "metadata": {},
   "outputs": [
    {
     "data": {
      "image/png": "[encoded data removed]",
      "text/plain": [
       "<Figure size 600x600 with 1 Axes>"
      ]
     },
     "metadata": {},
     "output_type": "display_data"
    }
   ],
   "source": [
    "import matplotlib.pyplot as plt\n",
    "\n",
    "# Ensure the data is sorted if needed\n",
    "df_sorted = df.sort_values(by='PERCENT_OF_STUDENT', ascending=False)\n",
    "\n",
    "# Pie chart\n",
    "plt.figure(figsize=(6, 6))\n",
    "plt.pie(\n",
    "    df_sorted['PERCENT_OF_STUDENT'],\n",
    "    labels=df_sorted['COURSE_INFLUENCE'],\n",
    "    autopct='%1.1f%%',\n",
    "    startangle=140,\n",
    "    textprops={'fontsize': 10}\n",
    ")\n",
    "\n",
    "# Title and layout\n",
    "plt.title('Course Selection Influence Distribution')\n",
    "plt.axis('equal')  # Equal aspect ratio ensures the pie is drawn as a circle\n",
    "plt.tight_layout()\n",
    "plt.show()"
   ]
  },
  {
   "cell_type": "markdown",
   "id": "6119d494-e050-47f3-ac9f-121147ee1694",
   "metadata": {},
   "source": [
    "#### Q13: % of Students having Secondary Major"
   ]
  },
  {
   "cell_type": "code",
   "execution_count": 39,
   "id": "57d03b3d-14b8-4974-8b20-2349a77109de",
   "metadata": {},
   "outputs": [
    {
     "name": "stderr",
     "output_type": "stream",
     "text": [
      "/tmp/ipykernel_1873960/3717057993.py:1: UserWarning: pandas only supports SQLAlchemy connectable (engine/connection) or database string URI or sqlite3 DBAPI2 connection. Other DBAPI2 objects are not tested. Please consider using SQLAlchemy.\n",
      "  df = pd.read_sql(\"\"\"\n"
     ]
    },
    {
     "data": {
      "text/html": [
       "<div>\n",
       "<style scoped>\n",
       "    .dataframe tbody tr th:only-of-type {\n",
       "        vertical-align: middle;\n",
       "    }\n",
       "\n",
       "    .dataframe tbody tr th {\n",
       "        vertical-align: top;\n",
       "    }\n",
       "\n",
       "    .dataframe thead th {\n",
       "        text-align: right;\n",
       "    }\n",
       "</style>\n",
       "<table border=\"1\" class=\"dataframe\">\n",
       "  <thead>\n",
       "    <tr style=\"text-align: right;\">\n",
       "      <th></th>\n",
       "      <th>PERCENTAGE_OF_STUDENT</th>\n",
       "    </tr>\n",
       "  </thead>\n",
       "  <tbody>\n",
       "    <tr>\n",
       "      <th>0</th>\n",
       "      <td>41.5</td>\n",
       "    </tr>\n",
       "  </tbody>\n",
       "</table>\n",
       "</div>"
      ],
      "text/plain": [
       "   PERCENTAGE_OF_STUDENT\n",
       "0                   41.5"
      ]
     },
     "execution_count": 39,
     "metadata": {},
     "output_type": "execute_result"
    }
   ],
   "source": [
    "df = pd.read_sql(\"\"\"\n",
    "SELECT ROUND(COUNT(*) * 100.0 / (SELECT COUNT(*) FROM TRANSFORM_SURVEY),1) AS Percentage_of_student\n",
    "FROM TRANSFORM_SURVEY\n",
    "WHERE SECONDARY_MAJOR IS NOT NULL\n",
    "OR SECONDARY_MAJOR <> 'N/A'\n",
    "\"\"\", conn)\n",
    "df"
   ]
  },
  {
   "cell_type": "markdown",
   "id": "cb68b1a7-dee2-474b-88c1-f69ee9eed97c",
   "metadata": {},
   "source": [
    "#### Q14: Top 3 things student do with their extra hour"
   ]
  },
  {
   "cell_type": "code",
   "execution_count": 41,
   "id": "587924fc-8fc4-4aaa-8f9a-a9cc6c1aebf0",
   "metadata": {},
   "outputs": [
    {
     "name": "stderr",
     "output_type": "stream",
     "text": [
      "/tmp/ipykernel_1873960/1164430563.py:1: UserWarning: pandas only supports SQLAlchemy connectable (engine/connection) or database string URI or sqlite3 DBAPI2 connection. Other DBAPI2 objects are not tested. Please consider using SQLAlchemy.\n",
      "  df = pd.read_sql(\"\"\"\n"
     ]
    },
    {
     "data": {
      "text/html": [
       "<div>\n",
       "<style scoped>\n",
       "    .dataframe tbody tr th:only-of-type {\n",
       "        vertical-align: middle;\n",
       "    }\n",
       "\n",
       "    .dataframe tbody tr th {\n",
       "        vertical-align: top;\n",
       "    }\n",
       "\n",
       "    .dataframe thead th {\n",
       "        text-align: right;\n",
       "    }\n",
       "</style>\n",
       "<table border=\"1\" class=\"dataframe\">\n",
       "  <thead>\n",
       "    <tr style=\"text-align: right;\">\n",
       "      <th></th>\n",
       "      <th>EXTRA_HOUR</th>\n",
       "      <th>NO_OF_STUDENT</th>\n",
       "      <th>D_RANK</th>\n",
       "    </tr>\n",
       "  </thead>\n",
       "  <tbody>\n",
       "    <tr>\n",
       "      <th>0</th>\n",
       "      <td>Working on a hobby</td>\n",
       "      <td>44</td>\n",
       "      <td>1</td>\n",
       "    </tr>\n",
       "    <tr>\n",
       "      <th>1</th>\n",
       "      <td>Sleeping</td>\n",
       "      <td>43</td>\n",
       "      <td>2</td>\n",
       "    </tr>\n",
       "    <tr>\n",
       "      <th>2</th>\n",
       "      <td>Exercising</td>\n",
       "      <td>33</td>\n",
       "      <td>3</td>\n",
       "    </tr>\n",
       "  </tbody>\n",
       "</table>\n",
       "</div>"
      ],
      "text/plain": [
       "           EXTRA_HOUR  NO_OF_STUDENT  D_RANK\n",
       "0  Working on a hobby             44       1\n",
       "1            Sleeping             43       2\n",
       "2          Exercising             33       3"
      ]
     },
     "execution_count": 41,
     "metadata": {},
     "output_type": "execute_result"
    }
   ],
   "source": [
    "df = pd.read_sql(\"\"\"\n",
    "WITH ranking AS\n",
    "(\n",
    "SELECT \n",
    "EXTRA_HOUR,\n",
    "COUNT(*) as no_of_student,\n",
    "DENSE_RANK() OVER(ORDER BY COUNT(*) DESC) as d_rank\n",
    "FROM TRANSFORM_SURVEY\n",
    "GROUP BY EXTRA_HOUR\n",
    ")\n",
    "SELECT *\n",
    "FROM ranking\n",
    "WHERE d_rank <= 3\n",
    "\"\"\", conn)\n",
    "df"
   ]
  },
  {
   "cell_type": "markdown",
   "id": "f108bd62-284d-4eb6-af50-bdb0a1b09f39",
   "metadata": {},
   "source": [
    "#### Q15: Since CS639 is not a graduate course (As not 700 level). What fraction of students are graduate students? "
   ]
  },
  {
   "cell_type": "code",
   "execution_count": 42,
   "id": "8f066655-bf73-4367-8716-8d126a5a99bf",
   "metadata": {},
   "outputs": [
    {
     "name": "stderr",
     "output_type": "stream",
     "text": [
      "/tmp/ipykernel_1873960/2156890179.py:1: UserWarning: pandas only supports SQLAlchemy connectable (engine/connection) or database string URI or sqlite3 DBAPI2 connection. Other DBAPI2 objects are not tested. Please consider using SQLAlchemy.\n",
      "  df = pd.read_sql(\"\"\"\n"
     ]
    },
    {
     "data": {
      "text/html": [
       "<div>\n",
       "<style scoped>\n",
       "    .dataframe tbody tr th:only-of-type {\n",
       "        vertical-align: middle;\n",
       "    }\n",
       "\n",
       "    .dataframe tbody tr th {\n",
       "        vertical-align: top;\n",
       "    }\n",
       "\n",
       "    .dataframe thead th {\n",
       "        text-align: right;\n",
       "    }\n",
       "</style>\n",
       "<table border=\"1\" class=\"dataframe\">\n",
       "  <thead>\n",
       "    <tr style=\"text-align: right;\">\n",
       "      <th></th>\n",
       "      <th>GRAD_PERCENT</th>\n",
       "    </tr>\n",
       "  </thead>\n",
       "  <tbody>\n",
       "    <tr>\n",
       "      <th>0</th>\n",
       "      <td>0.12</td>\n",
       "    </tr>\n",
       "  </tbody>\n",
       "</table>\n",
       "</div>"
      ],
      "text/plain": [
       "   GRAD_PERCENT\n",
       "0          0.12"
      ]
     },
     "execution_count": 42,
     "metadata": {},
     "output_type": "execute_result"
    }
   ],
   "source": [
    "df = pd.read_sql(\"\"\"\n",
    "SELECT ROUND(COUNT(*) * 1.0 / (SELECT COUNT(*) FROM TRANSFORM_SURVEY),2) as grad_percent\n",
    "FROM TRANSFORM_SURVEY\n",
    "WHERE ACADEMIC_STANDING = 'Grad'\n",
    "\"\"\", conn)\n",
    "df"
   ]
  },
  {
   "cell_type": "markdown",
   "id": "d826800a-bc5f-4216-aed0-526772c20d05",
   "metadata": {},
   "source": [
    "Validates that only 12% of students are graduate students as the course is not 700 level"
   ]
  },
  {
   "cell_type": "markdown",
   "id": "dabe692f-9438-4d85-88b9-bb845b96c23b",
   "metadata": {},
   "source": [
    "#### Q16: How many students are categorized in each sleep type? Order the output from highest to lowest"
   ]
  },
  {
   "cell_type": "code",
   "execution_count": 44,
   "id": "adda23fb-a8a5-406b-9263-1f33ded086a7",
   "metadata": {},
   "outputs": [
    {
     "name": "stderr",
     "output_type": "stream",
     "text": [
      "/tmp/ipykernel_1873960/2010510056.py:1: UserWarning: pandas only supports SQLAlchemy connectable (engine/connection) or database string URI or sqlite3 DBAPI2 connection. Other DBAPI2 objects are not tested. Please consider using SQLAlchemy.\n",
      "  df = pd.read_sql(\"\"\"\n"
     ]
    },
    {
     "data": {
      "text/html": [
       "<div>\n",
       "<style scoped>\n",
       "    .dataframe tbody tr th:only-of-type {\n",
       "        vertical-align: middle;\n",
       "    }\n",
       "\n",
       "    .dataframe tbody tr th {\n",
       "        vertical-align: top;\n",
       "    }\n",
       "\n",
       "    .dataframe thead th {\n",
       "        text-align: right;\n",
       "    }\n",
       "</style>\n",
       "<table border=\"1\" class=\"dataframe\">\n",
       "  <thead>\n",
       "    <tr style=\"text-align: right;\">\n",
       "      <th></th>\n",
       "      <th>SLEEP_TYPE</th>\n",
       "      <th>NO_OF_STUDENT</th>\n",
       "    </tr>\n",
       "  </thead>\n",
       "  <tbody>\n",
       "    <tr>\n",
       "      <th>0</th>\n",
       "      <td>night owl</td>\n",
       "      <td>101</td>\n",
       "    </tr>\n",
       "    <tr>\n",
       "      <th>1</th>\n",
       "      <td>early bird</td>\n",
       "      <td>33</td>\n",
       "    </tr>\n",
       "    <tr>\n",
       "      <th>2</th>\n",
       "      <td>no preference</td>\n",
       "      <td>25</td>\n",
       "    </tr>\n",
       "  </tbody>\n",
       "</table>\n",
       "</div>"
      ],
      "text/plain": [
       "      SLEEP_TYPE  NO_OF_STUDENT\n",
       "0      night owl            101\n",
       "1     early bird             33\n",
       "2  no preference             25"
      ]
     },
     "execution_count": 44,
     "metadata": {},
     "output_type": "execute_result"
    }
   ],
   "source": [
    "df = pd.read_sql(\"\"\"\n",
    "SELECT SLEEP_TYPE, COUNT(*) AS no_of_student\n",
    "FROM TRANSFORM_SURVEY\n",
    "GROUP BY SLEEP_TYPE\n",
    "ORDER BY no_of_student DESC\n",
    "\"\"\", conn)\n",
    "df"
   ]
  },
  {
   "cell_type": "markdown",
   "id": "d6d2a56f-7ae2-4ecd-8b2f-1481c42652f0",
   "metadata": {},
   "source": [
    "#### Q18: Configure `~/.dbt/profiles.yml` for `STOCK_DB` (0.5 points)"
   ]
  },
  {
   "cell_type": "code",
   "execution_count": 6,
   "id": "9f8d7c9f-4b5c-4229-8515-2fabc893d823",
   "metadata": {},
   "outputs": [
    {
     "name": "stdout",
     "output_type": "stream",
     "text": [
      "p4_data_pipeline:\n",
      "  target: dev\n",
      "  outputs:\n",
      "    dev:\n",
      "      type: snowflake\n",
      "      account: TQ19230.us-central1.gcp\n",
      "      user: YCHAUDHARI\n",
      "      role: P4_ROLE\n",
      "      database: SURVEY_DATABASE\n",
      "      warehouse: P4_WAREHOUSE\n",
      "      schema: SURVEY_SCHEMA\n",
      "      threads: 1\n",
      "      client_session_keep_alive: False\n",
      "\n",
      "  target: stock_db\n",
      "  outputs:\n",
      "    stock_db:\n",
      "      type: snowflake\n",
      "      account: TQ19230.us-central1.gcp\n",
      "      user: YCHAUDHARI\n",
      "      role: P4_ROLE\n",
      "      database: STOCK_DB\n",
      "      warehouse: P4_WAREHOUSE\n",
      "      schema: STOCK_SCHEMA\n",
      "      threads: 1\n",
      "      client_session_keep_alive: false\n"
     ]
    }
   ],
   "source": [
    "!cat ~/.dbt/profiles.yml | grep -v password"
   ]
  },
  {
   "cell_type": "markdown",
   "id": "2c9d4430-81bb-4f2e-94e1-b24a996675c9",
   "metadata": {},
   "source": [
    "#### Q19: Update `models/schema.yml` file to include new sources for `STOCK_DB` tables (0.5 points)"
   ]
  },
  {
   "cell_type": "code",
   "execution_count": 7,
   "id": "dcf086fb-f742-45ac-a488-61df6c9cca97",
   "metadata": {},
   "outputs": [
    {
     "name": "stdout",
     "output_type": "stream",
     "text": [
      "version: 2\n",
      "\n",
      "sources:\n",
      "  - name: p4_survey_data\n",
      "    database: SURVEY_DATABASE\n",
      "    schema: SURVEY_SCHEMA\n",
      "    tables:\n",
      "      - name: survey  # original table from Google Sheets\n",
      "\n",
      "  - name: stock_by_day\n",
      "    database: STOCK_DB\n",
      "    schema: STOCK_SCHEMA\n",
      "    tables:\n",
      "      - name: US_STOCK_METRICS\n",
      "\n",
      "  - name: fx_by_day\n",
      "    database: STOCK_DB\n",
      "    schema: STOCK_SCHEMA\n",
      "    tables:\n",
      "      - name: FOREX_METRICS\n",
      "\n",
      "  - name: airbyte_csv_data\n",
      "    database: STOCK_DB\n",
      "    schema: STOCK_SCHEMA\n",
      "    tables:\n",
      "      - name: TRADING_BOOKS\n",
      "      - name: WEIGHTS_TABLE\n"
     ]
    }
   ],
   "source": [
    "!cat ../p4_data_pipeline/models/schema.yml"
   ]
  },
  {
   "cell_type": "markdown",
   "id": "f98ade65-35e8-4555-bfa7-4081275387a0",
   "metadata": {},
   "source": [
    "#### Q20: Create `dbt_project.yml` file in your dbt project directory --- `p4_data_pipeline` (0.5 points)"
   ]
  },
  {
   "cell_type": "code",
   "execution_count": 50,
   "id": "b55c69ec-9152-4769-b4a0-c96bb167d954",
   "metadata": {},
   "outputs": [
    {
     "name": "stdout",
     "output_type": "stream",
     "text": [
      "\n",
      "# Name your project! Project names should contain only lowercase characters\n",
      "# and underscores. A good package name should reflect your organization's\n",
      "# name or the intended use of these models\n",
      "name: 'p4_data_pipeline'\n",
      "version: '1.0.0'\n",
      "\n",
      "# This setting configures which \"profile\" dbt uses for this project.\n",
      "profile: 'p4_data_pipeline'\n",
      "\n",
      "# These configurations specify where dbt should look for different types of files.\n",
      "# The `model-paths` config, for example, states that models in this project can be\n",
      "# found in the \"models/\" directory. You probably won't need to change these!\n",
      "model-paths: [\"models\"]\n",
      "analysis-paths: [\"analyses\"]\n",
      "test-paths: [\"tests\"]\n",
      "seed-paths: [\"seeds\"]\n",
      "macro-paths: [\"macros\"]\n",
      "snapshot-paths: [\"snapshots\"]\n",
      "\n",
      "clean-targets:         # directories to be removed by `dbt clean`\n",
      "  - \"target\"\n",
      "  - \"dbt_packages\"\n",
      "\n",
      "\n",
      "# Configuring models\n",
      "# Full documentation: https://docs.getdbt.com/docs/configuring-models\n",
      "\n",
      "# In this example config, we tell dbt to build all models in the example/\n",
      "# directory as views. These settings can be overridden in the individual model\n",
      "# files using the `{{ config(...) }}` macro.\n",
      "models:\n",
      "  p4_data_pipeline:\n",
      "    # Config indicated by + and applies to all files under models/example/\n",
      "    staging:\n",
      "      +materialized: view\n",
      "      +warehouse: P4_WAREHOUSE\n",
      "    marts:\n",
      "      +materialized: table\n",
      "      +warehouse: P4_WAREHOUSE\n"
     ]
    }
   ],
   "source": [
    "!cat ../p4_data_pipeline/dbt_project.yml"
   ]
  },
  {
   "cell_type": "markdown",
   "id": "cc158d4e-a2f1-4fb8-aec4-4f691b66aa46",
   "metadata": {},
   "source": [
    "#### Q21: Creating staging tables for FX and Stock (1 point)"
   ]
  },
  {
   "cell_type": "code",
   "execution_count": 51,
   "id": "1fc340af-b008-4304-be21-dba5a97cdbcf",
   "metadata": {},
   "outputs": [
    {
     "name": "stdout",
     "output_type": "stream",
     "text": [
      "with trading_books as (\n",
      "    select * from {{ source('airbyte_csv_data', 'TRADING_BOOKS') }}\n",
      ")\n",
      "\n",
      "select distinct\n",
      "    ticker,\n",
      "    trade_date\n",
      "from trading_books\n",
      "where desk = 'FX Desk'\n"
     ]
    }
   ],
   "source": [
    "!cat ../p4_data_pipeline/models/staging/staging_valid_fx_tickers.sql"
   ]
  },
  {
   "cell_type": "code",
   "execution_count": 52,
   "id": "1ef2adb5-caa5-4f51-8bd8-0cccb1383ef7",
   "metadata": {},
   "outputs": [
    {
     "name": "stdout",
     "output_type": "stream",
     "text": [
      "with trading_books as (\n",
      "    select * from {{ source('airbyte_csv_data', 'TRADING_BOOKS') }}\n",
      ")\n",
      "\n",
      "select distinct\n",
      "    ticker,\n",
      "    trade_date\n",
      "from trading_books\n",
      "where desk = 'Equity Desk'\n"
     ]
    }
   ],
   "source": [
    "!cat ../p4_data_pipeline/models/staging/staging_valid_stock_tickers.sql"
   ]
  },
  {
   "cell_type": "code",
   "execution_count": 53,
   "id": "8008462c-1fde-442b-ad54-e68fcdf098f2",
   "metadata": {},
   "outputs": [
    {
     "name": "stdout",
     "output_type": "stream",
     "text": [
      "with valid_tickers as (\n",
      "    select * from {{ ref('staging_valid_stock_tickers') }}\n",
      "),\n",
      "stock_data as (\n",
      "    select * from {{ source('stock_by_day', 'US_STOCK_METRICS') }}\n",
      ")\n",
      "\n",
      "select\n",
      "    s.ticker,\n",
      "    s.run_date,\n",
      "    s.open,\n",
      "    s.close,\n",
      "    s.high,\n",
      "    s.low\n",
      "from stock_data s\n",
      "join valid_tickers v\n",
      "on s.ticker = v.ticker and s.run_date = v.trade_date\n"
     ]
    }
   ],
   "source": [
    "!cat ../p4_data_pipeline/models/staging/staging_valid_stock_info.sql"
   ]
  },
  {
   "cell_type": "code",
   "execution_count": 54,
   "id": "4d4b4825-6d9d-4ae0-a64a-d7242a12c61e",
   "metadata": {},
   "outputs": [
    {
     "name": "stdout",
     "output_type": "stream",
     "text": [
      "with valid_tickers as (\n",
      "    select * from {{ ref('staging_valid_fx_tickers') }}\n",
      "),\n",
      "fx_data as (\n",
      "    select * from {{ source('fx_by_day', 'FOREX_METRICS') }}\n",
      ")\n",
      "\n",
      "select\n",
      "    f.currency_pair_name as ticker,\n",
      "    f.run_date,\n",
      "    f.open,\n",
      "    f.close,\n",
      "    f.high,\n",
      "    f.low\n",
      "from fx_data f\n",
      "join valid_tickers v\n",
      "on f.currency_pair_name = v.ticker and f.run_date = v.trade_date\n"
     ]
    }
   ],
   "source": [
    "!cat ../p4_data_pipeline/models/staging/staging_valid_fx_info.sql"
   ]
  },
  {
   "cell_type": "code",
   "execution_count": 57,
   "id": "d3a785da-4b23-4d9a-ac93-2d0a1b259be6",
   "metadata": {
    "scrolled": true
   },
   "outputs": [
    {
     "name": "stderr",
     "output_type": "stream",
     "text": [
      "/tmp/ipykernel_1873960/2815257297.py:4: UserWarning: pandas only supports SQLAlchemy connectable (engine/connection) or database string URI or sqlite3 DBAPI2 connection. Other DBAPI2 objects are not tested. Please consider using SQLAlchemy.\n",
      "  df1 = pd.read_sql(\"SELECT * FROM staging_valid_fx_tickers\", conn)\n",
      "/tmp/ipykernel_1873960/2815257297.py:5: UserWarning: pandas only supports SQLAlchemy connectable (engine/connection) or database string URI or sqlite3 DBAPI2 connection. Other DBAPI2 objects are not tested. Please consider using SQLAlchemy.\n",
      "  df2 = pd.read_sql(\"SELECT * FROM staging_valid_stock_tickers\", conn)\n",
      "/tmp/ipykernel_1873960/2815257297.py:6: UserWarning: pandas only supports SQLAlchemy connectable (engine/connection) or database string URI or sqlite3 DBAPI2 connection. Other DBAPI2 objects are not tested. Please consider using SQLAlchemy.\n",
      "  df3 = pd.read_sql(\"SELECT * FROM staging_valid_stock_info\", conn)\n",
      "/tmp/ipykernel_1873960/2815257297.py:7: UserWarning: pandas only supports SQLAlchemy connectable (engine/connection) or database string URI or sqlite3 DBAPI2 connection. Other DBAPI2 objects are not tested. Please consider using SQLAlchemy.\n",
      "  df4 = pd.read_sql(\"SELECT * FROM staging_valid_fx_info\", conn)\n"
     ]
    }
   ],
   "source": [
    "cursor.execute(\"USE DATABASE STOCK_DB;\")\n",
    "cursor.execute(\"USE SCHEMA STOCK_SCHEMA;\")\n",
    "\n",
    "df1 = pd.read_sql(\"SELECT * FROM staging_valid_fx_tickers\", conn)\n",
    "df2 = pd.read_sql(\"SELECT * FROM staging_valid_stock_tickers\", conn)\n",
    "df3 = pd.read_sql(\"SELECT * FROM staging_valid_stock_info\", conn)\n",
    "df4 = pd.read_sql(\"SELECT * FROM staging_valid_fx_info\", conn)\n",
    "\n",
    "df1.to_csv(\"files/staging_valid_fx_tickers.csv\", index=False)\n",
    "df2.to_csv(\"files/staging_valid_stock_tickers.csv\", index=False)\n",
    "df3.to_csv(\"files/staging_valid_stock_info.csv\", index=False)\n",
    "df4.to_csv(\"files/staging_valid_fx_info.csv\", index=False)"
   ]
  },
  {
   "cell_type": "markdown",
   "id": "0f8b8331-f45f-4300-9356-24172d0b6de4",
   "metadata": {},
   "source": [
    "#### Q22: Create staging table for trading pairs (0.5 points)"
   ]
  },
  {
   "cell_type": "code",
   "execution_count": 58,
   "id": "e8e54dcb-aca3-413e-9a88-2dbbd5098b05",
   "metadata": {},
   "outputs": [
    {
     "name": "stdout",
     "output_type": "stream",
     "text": [
      "with buy_trades as (\n",
      "    select\n",
      "        TRADE_ID as buy_trade_id,\n",
      "        TRADE_DATE,\n",
      "        TRADER_NAME,\n",
      "        DESK,\n",
      "        TICKER,\n",
      "        QUANTITY as quantity_buy,\n",
      "        PRICE as price_buy\n",
      "    from {{ source('airbyte_csv_data', 'TRADING_BOOKS') }}\n",
      "    where TRADE_TYPE = 'BUY'\n",
      "),\n",
      "\n",
      "sell_trades as (\n",
      "    select\n",
      "        TRADE_DATE,\n",
      "        TRADER_NAME,\n",
      "        TICKER,\n",
      "        QUANTITY as quantity_sell,\n",
      "        PRICE as price_sell\n",
      "    from {{ source('airbyte_csv_data', 'TRADING_BOOKS') }}\n",
      "    where TRADE_TYPE = 'SELL'\n",
      ")\n",
      "\n",
      "select\n",
      "    b.buy_trade_id,\n",
      "    b.trade_date,\n",
      "    b.trader_name,\n",
      "    b.desk,\n",
      "    b.ticker,\n",
      "    b.quantity_buy,\n",
      "    b.price_buy,\n",
      "    s.quantity_sell,\n",
      "    s.price_sell\n",
      "from buy_trades b\n",
      "join sell_trades s\n",
      "on b.trader_name = s.trader_name\n",
      "   and b.trade_date = s.trade_date\n",
      "   and b.ticker = s.ticker\n",
      "order by b.buy_trade_id\n"
     ]
    }
   ],
   "source": [
    "!cat ../p4_data_pipeline/models/staging/staging_buy_sell_joint.sql"
   ]
  },
  {
   "cell_type": "code",
   "execution_count": 59,
   "id": "5e458f70-1d45-421f-86a3-8895c7d4457f",
   "metadata": {},
   "outputs": [
    {
     "name": "stderr",
     "output_type": "stream",
     "text": [
      "/tmp/ipykernel_1873960/119166076.py:1: UserWarning: pandas only supports SQLAlchemy connectable (engine/connection) or database string URI or sqlite3 DBAPI2 connection. Other DBAPI2 objects are not tested. Please consider using SQLAlchemy.\n",
      "  df = pd.read_sql(\"SELECT * FROM staging_buy_sell_joint\", conn)\n"
     ]
    }
   ],
   "source": [
    "df = pd.read_sql(\"SELECT * FROM staging_buy_sell_joint\", conn)\n",
    "df.to_csv(\"files/staging_buy_sell_joint.csv\", index=False)"
   ]
  },
  {
   "cell_type": "markdown",
   "id": "e6b1a4c0-b187-44ae-88c2-d45b261305a4",
   "metadata": {},
   "source": [
    "#### Q23: Create a fact Table for trading data (1.5 points)"
   ]
  },
  {
   "cell_type": "code",
   "execution_count": 60,
   "id": "522c095b-8534-411c-8ba3-e69ca6354e78",
   "metadata": {},
   "outputs": [
    {
     "name": "stdout",
     "output_type": "stream",
     "text": [
      "{{ config(\n",
      "    materialized='table'\n",
      ") }}\n",
      "\n",
      "with base as (\n",
      "    select\n",
      "        buy_trade_id,\n",
      "        quantity_buy,\n",
      "        price_buy,\n",
      "        quantity_sell,\n",
      "        price_sell\n",
      "    from {{ ref('staging_buy_sell_joint') }}\n",
      ")\n",
      "\n",
      "select\n",
      "    buy_trade_id,\n",
      "    quantity_buy * price_buy as buy_money,\n",
      "    quantity_sell * price_sell as sell_money,\n",
      "    (quantity_sell * price_sell) - (quantity_buy * price_buy) as profit\n",
      "from base\n",
      "order by buy_trade_id\n"
     ]
    }
   ],
   "source": [
    "!cat ../p4_data_pipeline/models/marts/fact_tab_trading.sql"
   ]
  },
  {
   "cell_type": "code",
   "execution_count": 61,
   "id": "4e48efb4-d941-44e3-8448-5072f793e4ce",
   "metadata": {},
   "outputs": [],
   "source": [
    "df.to_csv('files/fact_tab_trading.csv', index=False)"
   ]
  },
  {
   "cell_type": "markdown",
   "id": "1cbac59c-45fa-4dd6-97dd-d7459a5324b7",
   "metadata": {},
   "source": [
    "#### Q24: Compute total profit by desk (1 point)"
   ]
  },
  {
   "cell_type": "code",
   "execution_count": 63,
   "id": "e203473f-786f-4588-bd55-d59325dbe1e5",
   "metadata": {},
   "outputs": [
    {
     "name": "stderr",
     "output_type": "stream",
     "text": [
      "/tmp/ipykernel_1873960/2713558185.py:1: UserWarning: pandas only supports SQLAlchemy connectable (engine/connection) or database string URI or sqlite3 DBAPI2 connection. Other DBAPI2 objects are not tested. Please consider using SQLAlchemy.\n",
      "  df = pd.read_sql(\n"
     ]
    },
    {
     "data": {
      "text/html": [
       "<div>\n",
       "<style scoped>\n",
       "    .dataframe tbody tr th:only-of-type {\n",
       "        vertical-align: middle;\n",
       "    }\n",
       "\n",
       "    .dataframe tbody tr th {\n",
       "        vertical-align: top;\n",
       "    }\n",
       "\n",
       "    .dataframe thead th {\n",
       "        text-align: right;\n",
       "    }\n",
       "</style>\n",
       "<table border=\"1\" class=\"dataframe\">\n",
       "  <thead>\n",
       "    <tr style=\"text-align: right;\">\n",
       "      <th></th>\n",
       "      <th>DESK</th>\n",
       "      <th>TOTAL_PROFIT</th>\n",
       "    </tr>\n",
       "  </thead>\n",
       "  <tbody>\n",
       "    <tr>\n",
       "      <th>0</th>\n",
       "      <td>Equity Desk</td>\n",
       "      <td>2718.75</td>\n",
       "    </tr>\n",
       "    <tr>\n",
       "      <th>1</th>\n",
       "      <td>FX Desk</td>\n",
       "      <td>5000.00</td>\n",
       "    </tr>\n",
       "  </tbody>\n",
       "</table>\n",
       "</div>"
      ],
      "text/plain": [
       "          DESK  TOTAL_PROFIT\n",
       "0  Equity Desk       2718.75\n",
       "1      FX Desk       5000.00"
      ]
     },
     "execution_count": 63,
     "metadata": {},
     "output_type": "execute_result"
    }
   ],
   "source": [
    "df = pd.read_sql(\n",
    "    '''SELECT\n",
    "      t.desk,\n",
    "      SUM(f.profit) AS total_profit\n",
    "    FROM STOCK_DB.STOCK_SCHEMA.FACT_TAB_TRADING f\n",
    "    JOIN STOCK_DB.STOCK_SCHEMA.TRADING_BOOKS t\n",
    "    ON f.buy_trade_id = t.trade_id\n",
    "    WHERE t.trade_type = 'BUY'\n",
    "    GROUP BY t.desk\n",
    "    ORDER BY t.desk;''', conn)\n",
    "df"
   ]
  },
  {
   "cell_type": "markdown",
   "id": "2d329900-fa8e-44e2-9ada-7b1a31fe6f90",
   "metadata": {},
   "source": [
    "#### Q25: Compute profit rate by desk (1 point)"
   ]
  },
  {
   "cell_type": "code",
   "execution_count": 64,
   "id": "4690d681-7d2b-49b7-94ed-50884eeb2e50",
   "metadata": {},
   "outputs": [
    {
     "name": "stderr",
     "output_type": "stream",
     "text": [
      "/tmp/ipykernel_1873960/2445783942.py:1: UserWarning: pandas only supports SQLAlchemy connectable (engine/connection) or database string URI or sqlite3 DBAPI2 connection. Other DBAPI2 objects are not tested. Please consider using SQLAlchemy.\n",
      "  df = pd.read_sql(\n"
     ]
    },
    {
     "data": {
      "text/html": [
       "<div>\n",
       "<style scoped>\n",
       "    .dataframe tbody tr th:only-of-type {\n",
       "        vertical-align: middle;\n",
       "    }\n",
       "\n",
       "    .dataframe tbody tr th {\n",
       "        vertical-align: top;\n",
       "    }\n",
       "\n",
       "    .dataframe thead th {\n",
       "        text-align: right;\n",
       "    }\n",
       "</style>\n",
       "<table border=\"1\" class=\"dataframe\">\n",
       "  <thead>\n",
       "    <tr style=\"text-align: right;\">\n",
       "      <th></th>\n",
       "      <th>DESK</th>\n",
       "      <th>PROFIT_RATE</th>\n",
       "    </tr>\n",
       "  </thead>\n",
       "  <tbody>\n",
       "    <tr>\n",
       "      <th>0</th>\n",
       "      <td>Equity Desk</td>\n",
       "      <td>0.012701</td>\n",
       "    </tr>\n",
       "    <tr>\n",
       "      <th>1</th>\n",
       "      <td>FX Desk</td>\n",
       "      <td>0.006342</td>\n",
       "    </tr>\n",
       "  </tbody>\n",
       "</table>\n",
       "</div>"
      ],
      "text/plain": [
       "          DESK  PROFIT_RATE\n",
       "0  Equity Desk     0.012701\n",
       "1      FX Desk     0.006342"
      ]
     },
     "execution_count": 64,
     "metadata": {},
     "output_type": "execute_result"
    }
   ],
   "source": [
    "df = pd.read_sql(\n",
    "    '''\n",
    "    SELECT\n",
    "      t.desk,\n",
    "      SUM(f.profit) / NULLIF(SUM(f.buy_money), 0) AS profit_rate\n",
    "    FROM STOCK_DB.STOCK_SCHEMA.FACT_TAB_TRADING f\n",
    "    JOIN STOCK_DB.STOCK_SCHEMA.TRADING_BOOKS t \n",
    "    ON f.buy_trade_id = t.trade_id\n",
    "    WHERE t.trade_type = 'BUY'\n",
    "    GROUP BY t.desk\n",
    "    ORDER BY t.desk;\n",
    "    ''', conn)\n",
    "df"
   ]
  },
  {
   "cell_type": "code",
   "execution_count": null,
   "id": "5d97fb48-7fca-425f-9317-141172711846",
   "metadata": {},
   "outputs": [],
   "source": []
  }
 ],
 "metadata": {
  "kernelspec": {
   "display_name": "p4-env",
   "language": "python",
   "name": "p4-env"
  },
  "language_info": {
   "codemirror_mode": {
    "name": "ipython",
    "version": 3
   },
   "file_extension": ".py",
   "mimetype": "text/x-python",
   "name": "python",
   "nbconvert_exporter": "python",
   "pygments_lexer": "ipython3",
   "version": "3.10.16"
  }
 },
 "nbformat": 4,
 "nbformat_minor": 5
}
